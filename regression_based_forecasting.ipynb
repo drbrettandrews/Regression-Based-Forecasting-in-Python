{
 "cells": [
  {
   "cell_type": "code",
   "execution_count": null,
   "id": "5fc3364a",
   "metadata": {},
   "outputs": [],
   "source": [
    "# Import the required libraries\n",
    "\n",
    "import math\n",
    "import numpy as np\n",
    "import pandas as pd\n",
    "import matplotlib.pylab as plt\n",
    "import statsmodels.api as sm\n",
    "import statsmodels.formula.api as smf\n",
    "from statsmodels.tsa import tsatools, stattools\n",
    "from statsmodels.tsa.arima_model import ARIMA\n",
    "from statsmodels.graphics import tsaplots\n",
    "from dmba import regressionSummary\n",
    "\n",
    "%matplotlib inline\n"
   ]
  },
  {
   "cell_type": "code",
   "execution_count": null,
   "id": "9d6379b9",
   "metadata": {},
   "outputs": [],
   "source": [
    "# Code for creating a time series plot\n",
    "\n",
    "\n",
    "# Read the data\n",
    "Amtrak_df = pd.read_csv('Amtrak.csv')\n",
    "\n",
    "# Convert the date information to a datetime object\n",
    "Amtrak_df['Date'] = pd.to_datetime(Amtrak_df.Month, format='%d/%m/%Y')\n",
    "\n",
    "# Convert dataframe column to series (Amtrak ridership series)\n",
    "#ridership_ts = pd.Series(Amtrak_df.Ridership.values, index=Amtrak_df.Date)\n",
    "\n",
    "# Create the ridership_ts dataframe with 'Ridership' as the column title\n",
    "ridership_ts = pd.DataFrame(Amtrak_df.Ridership.values, index=Amtrak_df.Date, columns=[\"Ridership\"])\n",
    "\n",
    "# Define the time series frequency\n",
    "ridership_ts.index = pd.date_range(start=ridership_ts.index[0], periods=len(ridership_ts), freq=ridership_ts.index.inferred_freq)\n",
    "\n",
    "# Plot the series\n",
    "ax = ridership_ts.plot()\n",
    "ax.set_xlabel('Time')\n",
    "ax.set_ylabel('Ridership (in 000s)')\n",
    "ax.set_ylim(1300, 2600)\n",
    "plt.show()\n"
   ]
  },
  {
   "cell_type": "code",
   "execution_count": null,
   "id": "5ffdcfba",
   "metadata": {},
   "outputs": [],
   "source": [
    "print(ridership_ts)"
   ]
  },
  {
   "cell_type": "code",
   "execution_count": null,
   "id": "de39d091",
   "metadata": {},
   "outputs": [],
   "source": [
    "print(Amtrak_df)"
   ]
  },
  {
   "cell_type": "code",
   "execution_count": null,
   "id": "63af24f2",
   "metadata": {},
   "outputs": [],
   "source": [
    "\n",
    "\n",
    "#ridership_df = tsatools.add_trend(ridership_ts, trend='ct')\n",
    "#ridership_lm = sm.ols(formula='Ridership - trend', data=ridership_df).fit()\n",
    "\n",
    "# Add a trend component to the DataFrame\n",
    "ridership_df = sm.tsa.add_trend(ridership_ts, trend='ct')\n",
    "\n",
    "# Define the linear model using the formula interface\n",
    "ridership_lm = sm.OLS.from_formula('Ridership ~ trend', data=ridership_df).fit()\n",
    "\n",
    "# Print the summary of the regression\n",
    "print(ridership_lm.summary())"
   ]
  },
  {
   "cell_type": "code",
   "execution_count": null,
   "id": "c185a3b9",
   "metadata": {},
   "outputs": [],
   "source": [
    "# Plot the time series\n",
    "ax = ridership_ts.plot()\n",
    "ax.set_xlabel('Time')\n",
    "ax.set_ylabel('Ridership (in 000s)')\n",
    "ax.set_ylim(1300, 2300)"
   ]
  },
  {
   "cell_type": "code",
   "execution_count": null,
   "id": "8be4e7f5",
   "metadata": {},
   "outputs": [],
   "source": [
    "# Plot the linear trend model\n",
    "ridership_lm.predict(ridership_df).plot(ax=ax)\n",
    "plt.show()"
   ]
  },
  {
   "cell_type": "code",
   "execution_count": null,
   "id": "321148f6",
   "metadata": {},
   "outputs": [],
   "source": [
    "# Plot the series and the fitted values\n",
    "plt.figure(figsize=(10, 6))\n",
    "plt.plot(ridership_ts.index, ridership_ts['Ridership'], label='Actual Ridership')\n",
    "plt.plot(ridership_ts.index, ridership_lm.fittedvalues, label='Fitted Trend', linestyle='--')\n",
    "plt.xlabel('Time')\n",
    "plt.ylabel('Ridership (in 000s)')\n",
    "plt.ylim(1300, 2600)\n",
    "plt.legend()\n",
    "plt.show()"
   ]
  },
  {
   "cell_type": "code",
   "execution_count": null,
   "id": "6e6ac2ac",
   "metadata": {},
   "outputs": [],
   "source": [
    "\n",
    "\n",
    "# Fit linear model using training set and predict on validation set\n",
    "#ridership_lm = sm.ols(formula='Ridership ~ trend', data=train_df).fit()\n",
    "predict_df = ridership_lm.predict(valid_df)\n",
    "\n",
    "# Create the plot\n",
    "def singleGraphLayout(ax, ylim, train_df, valid_df):\n",
    "    ax.set_xlim('1990', '2004-6')\n",
    "    ax.set_ylim(*ylim)\n",
    "    ax.set_xlabel('Time')\n",
    "    ax.set_ylabel('Ridership (in 000s)')\n",
    "    one_month = pd.Timedelta('31 days')\n",
    "    xtrain = (min(train_df.index), max(train_df.index) - one_month)\n",
    "    xvalid = (min(valid_df.index) - one_month, max(valid_df.index) - one_month)\n",
    "    xtv = xtrain[1] + 0.5 * (xvalid[0] - xtrain[1])\n",
    "    ypos = 0.9 * ylim[1]\n",
    "    ax.add_line(plt.Line2D(xtrain, (ypos, ypos), color='black', linewidth=0.5))\n",
    "    ax.add_line(plt.Line2D(xvalid, (ypos, ypos), color='black', linewidth=0.5))\n",
    "    ax.axvline(x=xtv, ymin=0, ymax=1, color='black', linewidth=0.5)\n",
    "    ax.text('1995', ypos + 50, 'Training')\n",
    "    ax.text('2001-3', ypos + 50, 'Validation')\n",
    "\n",
    "fig, axes = plt.subplots(nrows=2, ncols=1, figsize=(9, 7.5))\n",
    "train_df.plot(ax=axes[0], color='C0', linewidth=0.75)\n",
    "valid_df.plot(ax=axes[0], color='C0', linestyle='dashed', linewidth=0.75)\n",
    "ridership_lm.predict(train_df).plot(ax=axes[0], color='C1')\n",
    "ridership_lm.predict(valid_df).plot(ax=axes[0], color='C1', linestyle='dashed')\n",
    "\n",
    "singleGraphLayout(axes[0], (1300, 2600), train_df, valid_df)\n",
    "\n",
    "residual = train_df['Ridership'] - ridership_lm.predict(train_df)\n",
    "residual.plot(ax=axes[1], color='C1')\n",
    "residual = valid_df['Ridership'] - ridership_lm.predict(valid_df)\n",
    "residual.plot(ax=axes[1], color='C1', linestyle='dashed')\n",
    "axes[1].set_xlabel('Time')\n",
    "axes[1].set_ylabel('Forecast Errors')\n",
    "axes[1].set_ylim(-800, 800)\n",
    "\n",
    "plt.tight_layout()\n",
    "plt.show()\n"
   ]
  },
  {
   "cell_type": "code",
   "execution_count": null,
   "id": "d8403f11",
   "metadata": {},
   "outputs": [],
   "source": [
    "# Summary of output from a linear regression model applied to the Amtrak ridership data in the training period\n",
    "\n",
    "ridership_lm.summary()"
   ]
  },
  {
   "cell_type": "code",
   "execution_count": null,
   "id": "915b231d",
   "metadata": {},
   "outputs": [],
   "source": [
    "# Code for creating Figure 17.3\n",
    "\n",
    "# Predict linear ridership\n",
    "ridership_lm_linear = smf.ols.from_formula('Ridership ~ trend', data=train_df).fit()\n",
    "\n",
    "#ridership_lm_linear = sm.ols(formula='Ridership ~ trend', data=train_df).fit()\n",
    "predict_df_linear = ridership_lm_linear.predict(valid_df)\n",
    "\n",
    "# Predict exponential ridership\n",
    "ridership_lm_expo = smf.ols(formula='Ridership ~ np.log(trend)', data=train_df).fit()\n",
    "predict_df_expo = ridership_lm_expo.predict(valid_df)\n",
    "\n",
    "fig, ax = plt.subplots(nrows=1, ncols=1, figsize=(9, 3.75))\n",
    "train_df.plot(y='Ridership', ax=ax, color='C0', linewidth=0.75)\n",
    "valid_df.plot(y='Ridership', ax=ax, color='C0', linestyle='dashed', linewidth=0.75)\n",
    "singleGraphLayout(ax, [1300, 2600], train_df, valid_df)\n",
    "ridership_lm_linear.predict(train_df).plot(ax=ax, color='C1')\n",
    "predict_df_linear.plot(ax=ax, color='C1', linestyle='dashed')\n",
    "ridership_lm_expo.predict(train_df).apply(lambda row: np.exp(row)).plot(ax=ax, color='C2')\n",
    "predict_df_expo.apply(lambda row: np.exp(row)).plot(ax=ax, color='C2', linestyle='dashed')\n",
    "ax.get_legend().remove()\n",
    "plt.show()\n"
   ]
  },
  {
   "cell_type": "code",
   "execution_count": null,
   "id": "463325be",
   "metadata": {},
   "outputs": [],
   "source": [
    "# Fit a polynomial regression model with trend and seasonality\n",
    "ridership_lm_poly = sm.ols(formula='Ridership ~ trend + np.square(trend) + C(Month)', data=train_df).fit()\n",
    "\n",
    "# Create the plot\n",
    "fig, axes = plt.subplots(nrows=2, ncols=1, figsize=(9, 7.5))\n",
    "\n",
    "train_df.plot(y='Ridership', ax=axes[0], color='C0', linewidth=0.75)\n",
    "valid_df.plot(y='Ridership', ax=axes[0], color='C0', linestyle='dashed', linewidth=0.75)\n",
    "\n",
    "ridership_lm_poly.predict(train_df).plot(ax=axes[0], color='C1')\n",
    "ridership_lm_poly.predict(valid_df).plot(ax=axes[0], color='C1', linestyle='dashed')\n",
    "\n",
    "residual_train = train_df['Ridership'] - ridership_lm_poly.predict(train_df)\n",
    "residual_train.plot(ax=axes[1], color='C1')\n",
    "\n",
    "residual_valid = valid_df['Ridership'] - ridership_lm_poly.predict(valid_df)\n",
    "residual_valid.plot(ax=axes[1], color='C1', linestyle='dashed')\n",
    "\n",
    "graphLayout(axes, train_df, valid_df)\n",
    "plt.show()\n"
   ]
  },
  {
   "cell_type": "code",
   "execution_count": null,
   "id": "2a62c161",
   "metadata": {},
   "outputs": [],
   "source": [
    "# Summary of output from fitting trend and seasonality to Amtrak ridership in the training period\n",
    "\n",
    "# Fit the model\n",
    "ridership_lm_poly = sm.ols(formula='Ridership ~ trend + np.square(trend) + C(Month)', data=train_df).fit()\n",
    "\n",
    "# Display the summary of the model\n",
    "print(ridership_lm_poly.summary())\n"
   ]
  },
  {
   "cell_type": "code",
   "execution_count": null,
   "id": "57a494fa",
   "metadata": {},
   "outputs": [],
   "source": []
  },
  {
   "cell_type": "code",
   "execution_count": null,
   "id": "824c33da",
   "metadata": {},
   "outputs": [],
   "source": [
    "# Fit AR(1) model on ridership residuals\n",
    "formula = 'Ridership - trend + np.square(trend) + C(Month)'\n",
    "train_lm_trendseason = sm.ols(formula=formula, data=train_df).fit()\n",
    "train_res_arima = ARIMA(train_lm_trendseason.resid, order=(1, 0, 0),\n",
    "                        freq='MS').fit(trend='nc')\n",
    "forecast, _, conf_int = train_res_arima.forecast(1)\n",
    "\n",
    "# ar1 = ARIMA(train_res, order=(1, 0, 0)).fit()\n",
    "\n",
    "# Print coefficients of AR(1) model\n",
    "print(pd.DataFrame({'coef': ar1.params}))\n",
    "\n",
    "# Forecast residuals\n",
    "forecast = ar1.forecast(steps=len(valid_df))\n",
    "print(forecast)\n"
   ]
  },
  {
   "cell_type": "code",
   "execution_count": null,
   "id": "7a9a8438",
   "metadata": {},
   "outputs": [],
   "source": [
    "# Plotting the residuals and AR(1) model fit\n",
    "ax = train_lm_trendseason.resid.plot(figsize=(9, 4))\n",
    "train_res_arima = ar1.fittedvalues\n",
    "train_res_arima.plot(ax=ax)\n",
    "singleGraphLayout(ax, [-250, 250], train_df, valid_df)\n",
    "plt.show()\n"
   ]
  },
  {
   "cell_type": "code",
   "execution_count": null,
   "id": "71fdee27",
   "metadata": {},
   "outputs": [],
   "source": []
  }
 ],
 "metadata": {
  "kernelspec": {
   "display_name": "Python 3 (ipykernel)",
   "language": "python",
   "name": "python3"
  },
  "language_info": {
   "codemirror_mode": {
    "name": "ipython",
    "version": 3
   },
   "file_extension": ".py",
   "mimetype": "text/x-python",
   "name": "python",
   "nbconvert_exporter": "python",
   "pygments_lexer": "ipython3",
   "version": "3.11.4"
  }
 },
 "nbformat": 4,
 "nbformat_minor": 5
}
